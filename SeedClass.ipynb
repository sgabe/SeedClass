{
 "cells": [
  {
   "cell_type": "markdown",
   "id": "b0fcf4c5-fbec-45c4-9a71-0dea72c05859",
   "metadata": {
    "jp-MarkdownHeadingCollapsed": true
   },
   "source": [
    "Copyright (c) 2024 Gabor Seljan. All rights reserved.\n",
    "\n",
    "Licensed under the MIT License."
   ]
  },
  {
   "cell_type": "markdown",
   "id": "118f68d7-6272-457f-8b5c-5be7f828246e",
   "metadata": {},
   "source": [
    "# SeedClass\n",
    "\n",
    "SeedClass is an experimental machine learning project employing binary classification to predict whether fuzzing a specific seed file will lead to a vulnerability."
   ]
  },
  {
   "cell_type": "code",
   "execution_count": null,
   "id": "60be1d9f-dd1e-490e-a6ca-481830a0822f",
   "metadata": {},
   "outputs": [],
   "source": [
    "import os\n",
    "import heapq\n",
    "import config\n",
    "import numpy as np\n",
    "import pandas as pd\n",
    "import seaborn as sns\n",
    "import plotly.express as px\n",
    "import matplotlib.pyplot as plt\n",
    "\n",
    "from tensorflow.keras import Input\n",
    "from tensorflow.keras.metrics import AUC, Recall, Precision\n",
    "from tensorflow.keras.metrics import TruePositives, TrueNegatives\n",
    "from tensorflow.keras.metrics import FalsePositives, FalseNegatives\n",
    "from tensorflow.keras.regularizers import L1, L2\n",
    "from tensorflow.keras.models import Sequential\n",
    "from tensorflow.keras.layers import Dense, Dropout\n",
    "from tensorflow.keras.callbacks import EarlyStopping, TensorBoard\n",
    "\n",
    "from sklearn.manifold import TSNE\n",
    "from sklearn.decomposition import PCA\n",
    "from sklearn.metrics import confusion_matrix\n",
    "from sklearn.metrics import ConfusionMatrixDisplay\n",
    "from sklearn.preprocessing import MinMaxScaler\n",
    "from sklearn.model_selection import KFold\n",
    "from sklearn.model_selection import train_test_split\n",
    "\n",
    "from shutil import copy\n",
    "from utils import load_data\n",
    "from utils import plot_prc\n",
    "\n",
    "if config.VALIDATION:\n",
    "    from utils import plot_cross_val_essential_metrics\n",
    "    from utils import plot_cross_val_confusion_metrics\n",
    "else:\n",
    "    from utils import plot_essential_metrics\n",
    "    from utils import plot_confusion_metrics"
   ]
  },
  {
   "cell_type": "code",
   "execution_count": null,
   "id": "0ea2d154-5f00-4812-b27e-f629ea639eb1",
   "metadata": {},
   "outputs": [],
   "source": [
    "dd = {}\n",
    "dd = load_data(dd, 'data/clean', config.LABEL_NEGATIVE)\n",
    "dd = load_data(dd, 'data/crash', config.LABEL_POSITIVE)"
   ]
  },
  {
   "cell_type": "code",
   "execution_count": null,
   "id": "9520eaa5-dae5-4ef7-ad1c-42b2dfff3faf",
   "metadata": {},
   "outputs": [],
   "source": [
    "df = pd.DataFrame.from_dict(dd, orient='index').add_prefix('f')\n",
    "df.info()\n",
    "df.describe().transpose()"
   ]
  },
  {
   "cell_type": "code",
   "execution_count": null,
   "id": "d1aca94c-a26a-4bf7-90ac-9b08fbc05f3a",
   "metadata": {},
   "outputs": [],
   "source": [
    "sns.countplot(x='f0', data=df)"
   ]
  },
  {
   "cell_type": "code",
   "execution_count": null,
   "id": "bc3b985c-d8e0-4359-974f-aad4e424da92",
   "metadata": {},
   "outputs": [],
   "source": [
    "corr = df.corr()\n",
    "corr['f0'][1:-1].sort_values().plot(kind='bar')"
   ]
  },
  {
   "cell_type": "code",
   "execution_count": null,
   "id": "fd7898d8-dd22-4e37-a086-377c05a297df",
   "metadata": {},
   "outputs": [],
   "source": [
    "sns.heatmap(corr)"
   ]
  },
  {
   "cell_type": "code",
   "execution_count": null,
   "id": "7f6604d3-71bf-41d9-8946-45b5c15f8758",
   "metadata": {},
   "outputs": [],
   "source": [
    "mask = (abs(corr) > 0.5) & (abs(corr) != 1)\n",
    "corr.where(mask).stack().sort_values()"
   ]
  },
  {
   "cell_type": "code",
   "execution_count": null,
   "id": "3c0b967f-19b0-4ea2-923e-9fbe3d15d742",
   "metadata": {},
   "outputs": [],
   "source": [
    "X = df.drop('f0', axis=1).values\n",
    "y = df['f0'].values"
   ]
  },
  {
   "cell_type": "code",
   "execution_count": null,
   "id": "7ec0cf67-a7e0-4156-849d-8160d07842bd",
   "metadata": {},
   "outputs": [],
   "source": [
    "X_train, X_test, y_train, y_test = train_test_split(X, y, test_size=config.TEST_SIZE, shuffle=True, random_state=config.SEED)"
   ]
  },
  {
   "cell_type": "code",
   "execution_count": null,
   "id": "c11f3345-a8b1-4021-aefd-c07fa74a6876",
   "metadata": {},
   "outputs": [],
   "source": [
    "scaler = MinMaxScaler(feature_range=(0, config.FEATURE_RANGE_MAX))\n",
    "#X = pd.DataFrame(scaler.fit_transform(X))\n",
    "X_train = pd.DataFrame(scaler.fit_transform(X_train)).values\n",
    "X_test = pd.DataFrame(scaler.transform(X_test)).values"
   ]
  },
  {
   "cell_type": "code",
   "execution_count": null,
   "id": "4c4beeb4-8d5e-464e-b032-c014bb302256",
   "metadata": {},
   "outputs": [],
   "source": [
    "pca = PCA()\n",
    "pca.fit_transform(X_train)\n",
    "cumsum = np.cumsum(pca.explained_variance_ratio_)\n",
    "d = np.argmax(cumsum >= 0.95) + 1\n",
    "print(f'Min {d} dimensions required for 95% variance')"
   ]
  },
  {
   "cell_type": "code",
   "execution_count": null,
   "id": "3ec7cf76-8ce0-4360-ba9f-e1c9faf4a4f3",
   "metadata": {},
   "outputs": [],
   "source": [
    "N=3\n",
    "pca = PCA(n_components=N)\n",
    "X_pca = pca.fit_transform(X_train)\n",
    "X_pca_df = pd.DataFrame(X_pca, columns = ['PC1', 'PC2', 'PC3'])\n",
    "fig = px.scatter_3d(X_pca_df, x='PC1', y='PC2', z='PC3', size_max=18, opacity=0.7).update_traces(marker = dict(color = y_train))\n",
    "fig.update_layout(margin=dict(l=0, r=0, b=0, t=0))\n",
    "fig.show()\n",
    "print(f'Variance: {sum(pca.explained_variance_ratio_) * 100:.2f}%')"
   ]
  },
  {
   "cell_type": "code",
   "execution_count": null,
   "id": "7093813c-ed03-4cb3-a92f-a4bc09f2c41b",
   "metadata": {},
   "outputs": [],
   "source": [
    "N=3\n",
    "pca = PCA(n_components=N)\n",
    "X_pca = pca.fit_transform(X_train)\n",
    "fig = plt.figure(figsize=[8.4, 6.8])\n",
    "ax = fig.add_subplot(111, projection='3d')\n",
    "for i in range(0, N-2, 3):\n",
    "    ax.scatter(X_pca[:,i+1], X_pca[:,i], X_pca[:,i+2], c=y_train)\n",
    "plt.title(f'{N} Component PCA')\n",
    "plt.show()\n",
    "print(f'Variance: {sum(pca.explained_variance_ratio_) * 100:.2f}%')"
   ]
  },
  {
   "cell_type": "code",
   "execution_count": null,
   "id": "19a6bd8c-e025-4903-bf28-3abaa57c558f",
   "metadata": {},
   "outputs": [],
   "source": [
    "N=2\n",
    "pca = PCA(n_components=N)\n",
    "X_pca = pca.fit_transform(X_train)\n",
    "plt.figure(figsize=[6.4, 4.8])\n",
    "for i in range(0, N-1, 2):\n",
    "    plt.scatter(X_pca[:, i], X_pca[:, i+1], c=y_train)\n",
    "plt.title(f'{N} Component PCA')\n",
    "plt.show()\n",
    "print(f'Variance: {sum(pca.explained_variance_ratio_) * 100:.2f}%')"
   ]
  },
  {
   "cell_type": "code",
   "execution_count": null,
   "id": "31f5aa62-24e6-4765-9299-3b05a30bfdee",
   "metadata": {},
   "outputs": [],
   "source": [
    "N=2\n",
    "tsne = TSNE(n_components=N)\n",
    "X_tsne = tsne.fit_transform(X_train)\n",
    "plt.scatter(X_tsne[:, 0], X_tsne[:, 1], c=y_train)\n",
    "plt.title(f'{N} Component TSNE')\n",
    "plt.show()"
   ]
  },
  {
   "cell_type": "code",
   "execution_count": null,
   "id": "92507bf1-09c6-46d8-a2d1-5a8cd7966444",
   "metadata": {},
   "outputs": [],
   "source": [
    "model = Sequential()\n",
    "model.add(Input(shape=(256,)))\n",
    "model.add(Dense(256, activation='relu', kernel_regularizer=L2(0.0001) if config.REGULARIZATION else None))\n",
    "model.add(Dropout(0.5))\n",
    "model.add(Dense(256, activation='relu', kernel_regularizer=L2(0.0001) if config.REGULARIZATION else None))\n",
    "model.add(Dropout(0.5))\n",
    "model.add(Dense(1, activation='sigmoid'))"
   ]
  },
  {
   "cell_type": "code",
   "execution_count": null,
   "id": "f0b470dd-5d53-4d2e-9df4-0710afde695e",
   "metadata": {},
   "outputs": [],
   "source": [
    "model.compile(\n",
    "    optimizer='adam',\n",
    "    loss='binary_crossentropy',\n",
    "    metrics=['accuracy',\n",
    "        Recall(thresholds=config.THRESHOLD, name='recall'),\n",
    "        Precision(thresholds=config.THRESHOLD, name='precision'),\n",
    "        TruePositives(thresholds=config.THRESHOLD, name='tp'),\n",
    "        TrueNegatives(thresholds=config.THRESHOLD, name='tn'),\n",
    "        FalsePositives(thresholds=config.THRESHOLD, name='fp'),\n",
    "        FalseNegatives(thresholds=config.THRESHOLD, name='fn'),\n",
    "        AUC(name='auc'),\n",
    "        AUC(name='prc', curve='PR')\n",
    "    ]\n",
    ")"
   ]
  },
  {
   "cell_type": "code",
   "execution_count": null,
   "id": "ca4d5f03-59ca-4833-b6fb-caf7f4dc2972",
   "metadata": {},
   "outputs": [],
   "source": [
    "model.summary()"
   ]
  },
  {
   "cell_type": "code",
   "execution_count": null,
   "id": "e05a3282-761c-4f9f-8abf-42fdfd4df751",
   "metadata": {},
   "outputs": [],
   "source": [
    "if config.VALIDATION:\n",
    "    histories = []\n",
    "    kfold = KFold(n_splits=config.N_SPLITS, shuffle=True)\n",
    "    for train, test in kfold.split(X_train, y_train):\n",
    "        history = model.fit(\n",
    "            x=X_train[train],\n",
    "            y=y_train[train],\n",
    "            batch_size=config.BATCH_SIZE,\n",
    "            epochs=config.EPOCHS,\n",
    "            verbose=config.VERBOSE,\n",
    "            validation_data=(X_train[test], y_train[test]),\n",
    "            callbacks=[\n",
    "                EarlyStopping(monitor='val_loss', mode='min', restore_best_weights=True),\n",
    "                TensorBoard(log_dir=config.LOG_DIR)\n",
    "            ]\n",
    "        )\n",
    "        histories.append(history)\n",
    "else:\n",
    "    history = model.fit(\n",
    "        x=X_train,\n",
    "        y=y_train,\n",
    "        batch_size=config.BATCH_SIZE,\n",
    "        epochs=config.EPOCHS,\n",
    "        verbose=config.VERBOSE,\n",
    "        validation_data=(X_test, y_test),\n",
    "        callbacks=[\n",
    "            EarlyStopping(monitor='val_loss', mode='min', restore_best_weights=True),\n",
    "            TensorBoard(log_dir=config.LOG_DIR)\n",
    "        ]\n",
    "    )"
   ]
  },
  {
   "cell_type": "code",
   "execution_count": null,
   "id": "b6624a61-80ed-4290-98ca-0b471b099ba6",
   "metadata": {},
   "outputs": [],
   "source": [
    "essentials = ['loss', 'prc', 'precision', 'recall']\n",
    "confusions = ['tp', 'tn', 'fp', 'fn']\n",
    "if config.VALIDATION:\n",
    "    plot_cross_val_essential_metrics(essentials, histories)\n",
    "    plot_cross_val_confusion_metrics(confusions, histories)\n",
    "else:\n",
    "    plot_essential_metrics(essentials, history)\n",
    "    plot_confusion_metrics(confusions, history)"
   ]
  },
  {
   "cell_type": "code",
   "execution_count": null,
   "id": "a75e0d9f-697d-4eb1-9c1e-7583b0abd5a8",
   "metadata": {},
   "outputs": [],
   "source": [
    "scores = model.evaluate(X_test, y_test, verbose=config.VERBOSE)\n",
    "print(f'Loss: {scores[0] * 100:.2f}% - PRC: {scores[9] * 100:.2f}% - Precision: {scores[3] * 100:.2f}% - Recall: {scores[2] * 100:.2f}%')"
   ]
  },
  {
   "cell_type": "code",
   "execution_count": null,
   "id": "38461742-af55-4719-b8cf-56ee575fd390",
   "metadata": {},
   "outputs": [],
   "source": [
    "y_pred = (model.predict(X_test) > config.THRESHOLD).astype('int32')\n",
    "cm = confusion_matrix(y_true=y_test, y_pred=y_pred)\n",
    "ConfusionMatrixDisplay(confusion_matrix=cm).plot()"
   ]
  },
  {
   "cell_type": "code",
   "execution_count": null,
   "id": "a51aebd7-58a4-4a52-989b-ccb2e0775e27",
   "metadata": {},
   "outputs": [],
   "source": [
    "y_train_pred = model.predict(X_train, verbose=config.VERBOSE)\n",
    "y_test_pred = model.predict(X_test, verbose=config.VERBOSE)\n",
    "plot_prc('Train Baseline', y_train, y_train_pred, color='C0')\n",
    "plot_prc('Test Baseline', y_test, y_test_pred, color='C1', linestyle='--')"
   ]
  },
  {
   "cell_type": "code",
   "execution_count": null,
   "id": "0a321804-1868-4bb6-aba5-bde0322dbe7f",
   "metadata": {},
   "outputs": [],
   "source": [
    "dd = {}\n",
    "dd = load_data(dd, 'data/check')"
   ]
  },
  {
   "cell_type": "code",
   "execution_count": null,
   "id": "a71cc87c-b9a2-4f9c-be1a-16683bcd0317",
   "metadata": {},
   "outputs": [],
   "source": [
    "df = pd.DataFrame.from_dict(dd, orient='index').add_prefix('f')\n",
    "df.shape"
   ]
  },
  {
   "cell_type": "code",
   "execution_count": null,
   "id": "640b8349-13f9-4af1-8f99-d080d97c22c5",
   "metadata": {},
   "outputs": [],
   "source": [
    "X_pred = df.drop('f0', axis=1).values\n",
    "X_pred = pd.DataFrame(scaler.transform(X_pred))\n",
    "#X_pred = pd.DataFrame(scaler.fit_transform(X_pred.T)).T"
   ]
  },
  {
   "cell_type": "code",
   "execution_count": null,
   "id": "fc0b8737-3ed3-46e0-a4d6-9bf23ec2a4ec",
   "metadata": {},
   "outputs": [],
   "source": [
    "preds = (model.predict(X_pred, verbose=config.VERBOSE) > config.THRESHOLD).astype('int32')\n",
    "indices = []\n",
    "\n",
    "# Automatically adjust threshold to always find best candidates\n",
    "if np.count_nonzero(preds) == 0:\n",
    "    best = []\n",
    "    uniques = set()\n",
    "\n",
    "    preds = model.predict(X_pred, verbose=config.VERBOSE)\n",
    "\n",
    "    flats = [item for sublist in preds for item in sublist]\n",
    "    for v in heapq.nlargest(len(flats), flats):\n",
    "        if v not in uniques:\n",
    "            uniques.add(v)\n",
    "            best.append(v)\n",
    "        if len(best) == 21:\n",
    "            break\n",
    "    \n",
    "    indices = [flats.index(v) for v in best]\n",
    "\n",
    "    preds = (preds > min(best)).astype('int32')"
   ]
  },
  {
   "cell_type": "code",
   "execution_count": null,
   "id": "71f68ac2-c8a5-4108-bc28-812286d80a3c",
   "metadata": {},
   "outputs": [],
   "source": [
    "lst = list()\n",
    "\n",
    "for idx, l in np.ndenumerate(preds):\n",
    "    if l == 1:\n",
    "        if indices and idx[0] not in indices:\n",
    "            continue\n",
    "        print('{}'.format(idx[0]))\n",
    "        lst.append(df.index[idx[0]])\n",
    "    if len(lst) == 20:\n",
    "        break\n",
    "\n",
    "print(f'Selected {len(lst)} files out of {len(X_pred)} total')"
   ]
  },
  {
   "cell_type": "code",
   "execution_count": null,
   "id": "d4f3913a-9de3-47b5-9ac3-3d9411927d0d",
   "metadata": {},
   "outputs": [],
   "source": [
    "try:\n",
    "    for filename in lst:\n",
    "        print('{}'.format(filename))\n",
    "except:\n",
    "    print('Something, somewhere went terribly wrong!')\n",
    "    pass"
   ]
  },
  {
   "cell_type": "code",
   "execution_count": null,
   "id": "bcec8b6d-7db9-4385-8ad3-f49e7a86d7d7",
   "metadata": {},
   "outputs": [],
   "source": []
  }
 ],
 "metadata": {
  "kernelspec": {
   "display_name": "Python 3 (ipykernel)",
   "language": "python",
   "name": "python3"
  },
  "language_info": {
   "codemirror_mode": {
    "name": "ipython",
    "version": 3
   },
   "file_extension": ".py",
   "mimetype": "text/x-python",
   "name": "python",
   "nbconvert_exporter": "python",
   "pygments_lexer": "ipython3",
   "version": "3.12.4"
  }
 },
 "nbformat": 4,
 "nbformat_minor": 5
}
